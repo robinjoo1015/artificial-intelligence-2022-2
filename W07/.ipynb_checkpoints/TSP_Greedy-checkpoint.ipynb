{
 "cells": [
  {
   "cell_type": "markdown",
   "metadata": {
    "id": "ik7jOd9Zo4ci"
   },
   "source": [
    "<hr style=\"border:2px solid gray\"> </hr>\n",
    "\n",
    "# Homework 1 - Traveling Salesman Problem\n",
    "\n",
    "## Example Code\n",
    "\n",
    "### Algorithm 1: Greedy\n",
    "\n",
    "### Author: Wangduk Seo (CAU AI Lab)\n",
    "<hr style=\"border:2px solid gray\"> </hr>"
   ]
  },
  {
   "cell_type": "markdown",
   "metadata": {
    "id": "lxhnw2Sro4cj"
   },
   "source": [
    "# Step 0. Importing packages and Global Settings"
   ]
  },
  {
   "cell_type": "markdown",
   "metadata": {
    "id": "fBaMGtxWsEuo"
   },
   "source": [
    "---------------------------------------------------------------\n",
    "## (Optional) For Colab"
   ]
  },
  {
   "cell_type": "code",
   "execution_count": null,
   "metadata": {
    "colab": {
     "base_uri": "https://localhost:8080/"
    },
    "executionInfo": {
     "elapsed": 3943,
     "status": "ok",
     "timestamp": 1663472928264,
     "user": {
      "displayName": "서왕덕",
      "userId": "04395212646957231270"
     },
     "user_tz": -540
    },
    "id": "btG0dbeVr_I_",
    "outputId": "db7be46b-2eaa-41db-c6fc-411a01db4a62"
   },
   "outputs": [],
   "source": [
    "# from google.colab import drive\n",
    "# import os, sys\n",
    "# drive.mount('gdrive', force_remount=True)"
   ]
  },
  {
   "cell_type": "markdown",
   "metadata": {
    "id": "Y0V4SxSasSCh"
   },
   "source": [
    "---------------------------------------------------------------"
   ]
  },
  {
   "cell_type": "code",
   "execution_count": null,
   "metadata": {
    "executionInfo": {
     "elapsed": 303,
     "status": "ok",
     "timestamp": 1663473004686,
     "user": {
      "displayName": "서왕덕",
      "userId": "04395212646957231270"
     },
     "user_tz": -540
    },
    "id": "YlSzXNDIo4cj"
   },
   "outputs": [],
   "source": [
    "# package list\n",
    "import numpy as np\n",
    "import sys\n",
    "from sklearn.metrics.pairwise import euclidean_distances\n",
    "import matplotlib.pyplot as plt\n",
    "import time\n",
    "\n",
    "# Global Variables\n",
    "# Hill Climbing\n",
    "SUB_ITERATIONS = 2000 # Iteration of 2-opt search in each evaluation\n",
    "MAX_EVALUATION = 20 # Max hill climbing iterations\n",
    "\n",
    "# Plot Settings\n",
    "PLOT_MODE = True # Draw Route\n",
    "PLT_INTERVAL = 100 # Draw Route every 100 iterations\n",
    "plt.ion()\n",
    "\n",
    "# First City Index\n",
    "FIRST_IDX = 0"
   ]
  },
  {
   "cell_type": "code",
   "execution_count": null,
   "metadata": {
    "executionInfo": {
     "elapsed": 478,
     "status": "ok",
     "timestamp": 1663472959833,
     "user": {
      "displayName": "서왕덕",
      "userId": "04395212646957231270"
     },
     "user_tz": -540
    },
    "id": "eRLCYqRFpgRP"
   },
   "outputs": [],
   "source": [
    "file_path = 'data1.txt'"
   ]
  },
  {
   "cell_type": "markdown",
   "metadata": {
    "id": "UY3MuYoeo4cj"
   },
   "source": [
    "# Step 1. Data Loading"
   ]
  },
  {
   "cell_type": "code",
   "execution_count": null,
   "metadata": {
    "executionInfo": {
     "elapsed": 3,
     "status": "ok",
     "timestamp": 1663472962184,
     "user": {
      "displayName": "서왕덕",
      "userId": "04395212646957231270"
     },
     "user_tz": -540
    },
    "id": "q-Wolfpdo4ck"
   },
   "outputs": [],
   "source": [
    "def fileloader():\n",
    "    #     Data Format\n",
    "    #     ---------------------------------------------------------\n",
    "    #     NAME : pia3056\n",
    "    #     COMMENT : Bonn VLSI data set with 3056 points\n",
    "    #     COMMENT : Uni Bonn, Research Institute for Discrete Math\n",
    "    #     COMMENT : Contributed by Andre Rohe\n",
    "    #     TYPE : TSP\n",
    "    #     DIMENSION : 3056 -----------------------------|\n",
    "    #     EDGE_WEIGHT_TYPE : EUC_2D                     |\n",
    "    #     NODE_COORD_SECTION                            |\n",
    "    #     1 0 11 (2 dimentional coordinate of city)     |\n",
    "    #     2 0 115                                       |\n",
    "    #     ...                                           |\n",
    "    #     ...(Total 3056 nodes)<------------------------|\n",
    "    #     EOF\n",
    "    #     ---------------------------------------------------------\n",
    "    with open(file_path, \"r\") as file:\n",
    "        file_str = file.readlines()\n",
    "\n",
    "    # Get the coordinates of cities\n",
    "    coord_str = file_str[8:-1]  # first city string to last city string (EOF 전까지)\n",
    "    coord_list = np.zeros((len(coord_str), 2))\n",
    "    for idx, item in enumerate(coord_str):\n",
    "        items = item.split()\n",
    "        coord_list[idx, 0], coord_list[idx, 1] = int(items[1]), int(items[2])\n",
    "\n",
    "    return coord_list"
   ]
  },
  {
   "cell_type": "markdown",
   "metadata": {
    "id": "s-VGTgESo4ck"
   },
   "source": [
    "# Step 2. Searching a path\n",
    "## Algorithm 1. Greedy Algorithm"
   ]
  },
  {
   "cell_type": "code",
   "execution_count": null,
   "metadata": {
    "executionInfo": {
     "elapsed": 372,
     "status": "ok",
     "timestamp": 1663472965087,
     "user": {
      "displayName": "서왕덕",
      "userId": "04395212646957231270"
     },
     "user_tz": -540
    },
    "id": "gZQBHDDno4ck"
   },
   "outputs": [],
   "source": [
    "def path_cost(path_map, path):\n",
    "    # The array of cost between cities in the path\n",
    "    cnt_cities = path_map.shape[0]\n",
    "    cost_arr = np.zeros(cnt_cities)\n",
    "    for i in range(cnt_cities):\n",
    "        cost_arr[i] = path_map[path[i], path[i+1]]\n",
    "\n",
    "    return cost_arr\n",
    "\n",
    "def greedy(coord_list):\n",
    "    cnt_cities = len(coord_list)\n",
    "    # Initialize path and insert first city index to the first and last elements\n",
    "    best_path = np.zeros(cnt_cities + 1, dtype=np.int32)\n",
    "    best_path[0], best_path[-1] = FIRST_IDX, FIRST_IDX\n",
    "\n",
    "    # Euclidean distance map between cities\n",
    "    path_map = euclidean_distances(coord_list, coord_list)\n",
    "\n",
    "    cities_tovisit = np.ones((cnt_cities), dtype=np.bool_)\n",
    "    cities_tovisit[FIRST_IDX] = False\n",
    "\n",
    "    # Iteratively Connect nearest cities\n",
    "    for i in range(1, cnt_cities):\n",
    "        start_idx = best_path[i - 1]\n",
    "        distance_from_start = path_map[start_idx, :]\n",
    "        nearest_list = np.argsort(distance_from_start)\n",
    "        for idx in range(len(nearest_list)):\n",
    "            # check the nearest city is visited\n",
    "            if cities_tovisit[nearest_list[idx]]:\n",
    "                nearest_city = nearest_list[idx]\n",
    "                break\n",
    "        cities_tovisit[nearest_city] = False\n",
    "        best_path[i] = nearest_city\n",
    "        \n",
    "    cost_arr = path_cost(path_map, best_path)\n",
    "    best_cost = cost_arr.sum()\n",
    "    \n",
    "    # Draw Route\n",
    "    if PLOT_MODE:\n",
    "        plt.close()\n",
    "        figure, ax = plt.subplots()\n",
    "        plt.scatter(coord_list[:, 0], coord_list[:, 1], c='red', s=10)\n",
    "        plt.title('City Route')\n",
    "        coord_path = coord_list\n",
    "        coord_path = np.append(coord_path, coord_path[best_path[0], :].reshape(1, 2), axis=0)\n",
    "        coord_path[:, :] = coord_path[best_path, :]\n",
    "        lines, = ax.plot(coord_path[:, 0], coord_path[:, 1], 'k--')\n",
    "        figure.canvas.draw()\n",
    "        figure.canvas.flush_events()\n",
    "        plt.show()\n",
    "    \n",
    "    return best_path, best_cost"
   ]
  },
  {
   "cell_type": "markdown",
   "metadata": {
    "id": "cWzrSQvwo4ck"
   },
   "source": [
    "# Main"
   ]
  },
  {
   "cell_type": "code",
   "execution_count": null,
   "metadata": {
    "colab": {
     "base_uri": "https://localhost:8080/",
     "height": 444
    },
    "executionInfo": {
     "elapsed": 479,
     "status": "ok",
     "timestamp": 1663473012219,
     "user": {
      "displayName": "서왕덕",
      "userId": "04395212646957231270"
     },
     "user_tz": -540
    },
    "id": "0ivEjcOEo4ck",
    "outputId": "c228f8cf-1c0f-48de-a117-e70a1e993815"
   },
   "outputs": [],
   "source": [
    "# Step 1\n",
    "try:\n",
    "    coord_list = fileloader()\n",
    "except Exception as e:\n",
    "    print('예외 발생', e)\n",
    "    sys.exit()\n",
    "\n",
    "start_time = time.time()\n",
    "\n",
    "# Step 2\n",
    "best_path, best_cost = greedy(coord_list)\n",
    "\n",
    "print('Execution Time: ' + str(time.time() - start_time))\n",
    "print('Path: ' + str(best_path.tolist()))\n",
    "print('Cost: ' + str(best_cost))"
   ]
  },
  {
   "cell_type": "code",
   "execution_count": null,
   "metadata": {},
   "outputs": [],
   "source": []
  }
 ],
 "metadata": {
  "colab": {
   "collapsed_sections": [],
   "provenance": []
  },
  "kernelspec": {
   "display_name": "Python 3 (ipykernel)",
   "language": "python",
   "name": "python3"
  },
  "language_info": {
   "codemirror_mode": {
    "name": "ipython",
    "version": 3
   },
   "file_extension": ".py",
   "mimetype": "text/x-python",
   "name": "python",
   "nbconvert_exporter": "python",
   "pygments_lexer": "ipython3",
   "version": "3.10.8"
  },
  "vscode": {
   "interpreter": {
    "hash": "b0fa6594d8f4cbf19f97940f81e996739fb7646882a419484c72d19e05852a7e"
   }
  }
 },
 "nbformat": 4,
 "nbformat_minor": 1
}

{
 "cells": [
  {
   "cell_type": "markdown",
   "metadata": {},
   "source": [
    "<hr style=\"border:2px solid gray\"> </hr>\n",
    "\n",
    "# Homework 1 - Traveling Salesman Problem\n",
    "\n",
    "## Example Code\n",
    "\n",
    "### Algorithm 4: Genetic Algorithm \n",
    "\n",
    "### Author: Wangduk Seo (CAU AI Lab)\n",
    "<hr style=\"border:2px solid gray\"> </hr>"
   ]
  },
  {
   "cell_type": "markdown",
   "metadata": {},
   "source": [
    "# Step 0. Importing packages and Global Settings"
   ]
  },
  {
   "cell_type": "markdown",
   "metadata": {
    "id": "fBaMGtxWsEuo"
   },
   "source": [
    "---------------------------------------------------------------\n",
    "## (Optional) For Colab"
   ]
  },
  {
   "cell_type": "code",
   "execution_count": null,
   "metadata": {},
   "outputs": [],
   "source": [
    "# from google.colab import drive\n",
    "# import os, sys\n",
    "# drive.mount('gdrive', force_remount=True)"
   ]
  },
  {
   "cell_type": "markdown",
   "metadata": {
    "id": "Y0V4SxSasSCh"
   },
   "source": [
    "---------------------------------------------------------------"
   ]
  },
  {
   "cell_type": "code",
   "execution_count": null,
   "metadata": {},
   "outputs": [],
   "source": [
    "# package list\n",
    "import numpy as np\n",
    "import sys\n",
    "from sklearn.metrics.pairwise import euclidean_distances\n",
    "import matplotlib.pyplot as plt\n",
    "import time\n",
    "\n",
    "# Global Variables\n",
    "# GA\n",
    "POOL_SIZE = 20 \n",
    "TOURNAMENT_SIZE = 5\n",
    "MAX_ITERATION = 100000\n",
    "\n",
    "# SA\n",
    "MAX_EVALUATION = 100\n",
    "SUB_ITERATIONS = 50\n",
    "TEMPERATURE = 100\n",
    "COOLING_RATIO = 0.5\n",
    "TEMP_LIMIT = 1\n",
    "\n",
    "np.random.seed(0)\n",
    "# Plot Settings\n",
    "PLOT_MODE = True # Draw Route\n",
    "plt.ion()\n",
    "\n",
    "# First City Index\n",
    "FIRST_IDX = 0"
   ]
  },
  {
   "cell_type": "code",
   "execution_count": null,
   "metadata": {
    "executionInfo": {
     "elapsed": 478,
     "status": "ok",
     "timestamp": 1663472959833,
     "user": {
      "displayName": "서왕덕",
      "userId": "04395212646957231270"
     },
     "user_tz": -540
    },
    "id": "eRLCYqRFpgRP"
   },
   "outputs": [],
   "source": [
    "file_path = 'data1.txt'"
   ]
  },
  {
   "cell_type": "markdown",
   "metadata": {},
   "source": [
    "# Step 1. Data Loading"
   ]
  },
  {
   "cell_type": "code",
   "execution_count": null,
   "metadata": {},
   "outputs": [],
   "source": [
    "def fileloader():\n",
    "    #     Data Format\n",
    "    #     ---------------------------------------------------------\n",
    "    #     NAME : pia3056\n",
    "    #     COMMENT : Bonn VLSI data set with 3056 points\n",
    "    #     COMMENT : Uni Bonn, Research Institute for Discrete Math\n",
    "    #     COMMENT : Contributed by Andre Rohe\n",
    "    #     TYPE : TSP\n",
    "    #     DIMENSION : 3056 -----------------------------|\n",
    "    #     EDGE_WEIGHT_TYPE : EUC_2D                     |\n",
    "    #     NODE_COORD_SECTION                            |\n",
    "    #     1 0 11 (2 dimentional coordinate of city)     |\n",
    "    #     2 0 115                                       |\n",
    "    #     ...                                           |\n",
    "    #     ...(Total 3056 nodes)<------------------------|\n",
    "    #     EOF\n",
    "    #     ---------------------------------------------------------\n",
    "    with open(file_path, \"r\") as file:\n",
    "        file_str = file.readlines()\n",
    "\n",
    "    # Get the coordinates of cities\n",
    "    coord_str = file_str[8:-1]  # first city string to last city string (EOF 전까지)\n",
    "    coord_list = np.zeros((len(coord_str), 2))\n",
    "    for idx, item in enumerate(coord_str):\n",
    "        items = item.split()\n",
    "        coord_list[idx, 0], coord_list[idx, 1] = int(items[1]), int(items[2])\n",
    "\n",
    "    return coord_list"
   ]
  },
  {
   "cell_type": "markdown",
   "metadata": {},
   "source": [
    "# Step 2. Initialization"
   ]
  },
  {
   "cell_type": "code",
   "execution_count": null,
   "metadata": {},
   "outputs": [],
   "source": [
    "def initialize_greedy(coord_list, first_idx):\n",
    "    cnt_cities = len(coord_list)\n",
    "    # Initialize path and insert first city index to the first and last elements\n",
    "    path = np.zeros(cnt_cities + 1, dtype=np.int32)\n",
    "    path[0], path[-1] = first_idx, first_idx\n",
    "\n",
    "    # Euclidean distance map between cities\n",
    "    path_map = euclidean_distances(coord_list, coord_list)\n",
    "\n",
    "    cities_tovisit = np.ones((cnt_cities), dtype=np.bool_)\n",
    "    cities_tovisit[first_idx] = False\n",
    "\n",
    "    # Iteratively Connect nearest cities\n",
    "    for i in range(1, cnt_cities):\n",
    "        start_idx = path[i - 1]\n",
    "        distance_from_start = path_map[start_idx, :]\n",
    "        nearest_list = np.argsort(distance_from_start)\n",
    "        for idx in range(len(nearest_list)):\n",
    "            # check the nearest city is visited\n",
    "            if cities_tovisit[nearest_list[idx]]:\n",
    "                nearest_city = nearest_list[idx]\n",
    "                break\n",
    "        cities_tovisit[nearest_city] = False\n",
    "        path[i] = nearest_city\n",
    "\n",
    "    return path_map, path\n",
    "\n",
    "\n",
    "def initialize_random(coord_list, first_idx):\n",
    "    cnt_cities = len(coord_list)\n",
    "    path = np.zeros(cnt_cities + 1, dtype=np.int32)\n",
    "\n",
    "    path[0], path[-1] = first_idx, first_idx\n",
    "    # Euclidean distance map between cities\n",
    "    path_map = euclidean_distances(coord_list, coord_list)\n",
    "\n",
    "    # city indices without first city index\n",
    "    cities_tovisit = np.delete(np.arange(cnt_cities), first_idx)\n",
    "    cities_random = np.random.permutation(cities_tovisit)\n",
    "    path[1:-1] = cities_random\n",
    "\n",
    "    return path_map, path\n",
    "\n",
    "def path_cost(path_map, path):\n",
    "    # The array of cost between cities in the path\n",
    "    cnt_cities = path_map.shape[0]\n",
    "    cost_arr = np.zeros(cnt_cities)\n",
    "    for i in range(cnt_cities):\n",
    "        cost_arr[i] = path_map[path[i], path[i+1]]\n",
    "\n",
    "    return cost_arr"
   ]
  },
  {
   "cell_type": "markdown",
   "metadata": {},
   "source": [
    "# Step 3. Searching a path\n",
    "\n",
    "## Algorithm 4. Genetic Algorithm "
   ]
  },
  {
   "cell_type": "code",
   "execution_count": null,
   "metadata": {
    "scrolled": true
   },
   "outputs": [],
   "source": [
    "def two_opt_swap(path_map, path, iterations, coord_list):\n",
    "    cnt_cities = path_map.shape[0]\n",
    "    # Save the best path\n",
    "\n",
    "    cost_arr = path_cost(path_map, path)\n",
    "    best_path = path.copy()\n",
    "    best_cost = cost_arr.sum()\n",
    "    \n",
    "    for i in range(iterations):\n",
    "        curr_path = best_path.copy()\n",
    "        # Select two indices of flip points\n",
    "        sel_idx = np.sort(np.random.choice(np.arange(1, cnt_cities + 1), 2))\n",
    "\n",
    "        # Path Flip and update cost array\n",
    "        curr_path[sel_idx[0]:sel_idx[1]] = np.flip(curr_path[sel_idx[0]: sel_idx[1]])\n",
    "        cost_arr = path_cost(path_map, curr_path)\n",
    "\n",
    "        # Compare to the best path\n",
    "        curr_cost = cost_arr.sum()\n",
    "        if curr_cost < best_cost:\n",
    "            best_path = curr_path\n",
    "            best_cost = curr_cost\n",
    "    \n",
    "    temperature = TEMPERATURE\n",
    "    while temperature > TEMP_LIMIT:\n",
    "        curr_path = best_path.copy()\n",
    "        # Select two indices of flip points\n",
    "        sel_idx = np.sort(np.random.choice(np.arange(1, cnt_cities + 1), 2))\n",
    "\n",
    "        # Path Flip and update cost array\n",
    "        curr_path[sel_idx[0]:sel_idx[1]] = np.flip(curr_path[sel_idx[0]: sel_idx[1]])\n",
    "        cost_arr = path_cost(path_map, curr_path)\n",
    "        curr_cost = cost_arr.sum()\n",
    "\n",
    "        if curr_cost <= best_cost:\n",
    "            best_path, best_cost = curr_path, curr_cost\n",
    "        else:\n",
    "            prob = 1 / np.exp((curr_cost - best_cost) / float(temperature))\n",
    "            if prob > np.random.rand(1):\n",
    "                best_path, best_cost = curr_path, curr_cost\n",
    "        temperature = temperature * COOLING_RATIO \n",
    "    return best_path, best_cost"
   ]
  },
  {
   "cell_type": "code",
   "execution_count": null,
   "metadata": {},
   "outputs": [],
   "source": [
    "def sa(path_map, path, coord_list):\n",
    "    best_path, best_cost = path.copy() , path_cost(path_map, path).sum()\n",
    "\n",
    "    for i in range(MAX_EVALUATION):\n",
    "        curr_path = best_path.copy()\n",
    "        new_path, new_cost = two_opt_swap(path_map, curr_path, SUB_ITERATIONS, coord_list)\n",
    "\n",
    "        if new_cost < best_cost:\n",
    "            best_path, best_cost = new_path, new_cost\n",
    "            \n",
    "    return best_path, best_cost"
   ]
  },
  {
   "cell_type": "code",
   "execution_count": null,
   "metadata": {},
   "outputs": [],
   "source": [
    "def initialization(coord_list):\n",
    "    cnt_cities = len(coord_list)\n",
    "    path_pool = np.zeros((POOL_SIZE, cnt_cities + 1), dtype=np.int32)\n",
    "    pool_cost = np.zeros(POOL_SIZE)\n",
    "    \n",
    "    path_map, path_pool[0, :] = initialize_greedy(coord_list, FIRST_IDX)\n",
    "    pool_cost[0] = path_cost(path_map, path_pool[0, :]).sum()\n",
    "\n",
    "    print('Path {} is initialized'.format(0))\n",
    "\n",
    "    for i in range(1, POOL_SIZE):\n",
    "        _, path_pool[i, :] = initialize_random(coord_list, FIRST_IDX)\n",
    "        path_pool[i, :], pool_cost[i] = sa(path_map, path_pool[i, :], coord_list)\n",
    "        print('Path {} is initialized'.format(i))\n",
    "    \n",
    "    return path_pool, pool_cost, path_map"
   ]
  },
  {
   "cell_type": "code",
   "execution_count": null,
   "metadata": {},
   "outputs": [],
   "source": [
    "def selection(pool_cost, TOURNAMENT_SIZE, sel_size=2):\n",
    "    # tournament selection\n",
    "    sel_idx = np.random.choice(POOL_SIZE, TOURNAMENT_SIZE, replace=False)\n",
    "    sel_cost = pool_cost[sel_idx]\n",
    "    best_idx = sel_idx[np.argsort(sel_cost)][:sel_size]\n",
    "    return best_idx"
   ]
  },
  {
   "cell_type": "code",
   "execution_count": null,
   "metadata": {},
   "outputs": [],
   "source": [
    "# pmx crossover\n",
    "def crossover(path1, path2):\n",
    "    cnt_cities = len(path1) - 1\n",
    "    # Select two indices of crossover points\n",
    "    sel_idx = np.sort(np.random.choice(np.arange(1, cnt_cities), 2))\n",
    "    # Initialize child path\n",
    "    child_path = np.zeros(cnt_cities + 1, dtype=np.int32)\n",
    "    child_path[0], child_path[-1] = -1, -1\n",
    "    # Copy the path between crossover points\n",
    "    child_path[sel_idx[0]:sel_idx[1]] = path1[sel_idx[0]:sel_idx[1]]\n",
    "    # Copy the rest of the path from path2\n",
    "    path2_idx = np.where(np.isin(path2, child_path) == False)[0]\n",
    "    child_path[np.where(child_path == 0)[0]] = path2[path2_idx]\n",
    "    child_path[0], child_path[-1] = FIRST_IDX, FIRST_IDX\n",
    "\n",
    "    return child_path\n"
   ]
  },
  {
   "cell_type": "code",
   "execution_count": null,
   "metadata": {},
   "outputs": [],
   "source": [
    "# swap mutation\n",
    "def mutation(path):\n",
    "    cnt_cities = len(path)\n",
    "    child_path = path.copy()\n",
    "    # Select two indices of mutation points\n",
    "    sel_idx = np.sort(np.random.choice(np.arange(1, cnt_cities), 2))\n",
    "    # Swap the path between mutation points\n",
    "    child_path[sel_idx[0]:sel_idx[1]] = np.flip(child_path[sel_idx[0]:sel_idx[1]])\n",
    "\n",
    "    return child_path \n"
   ]
  },
  {
   "cell_type": "code",
   "execution_count": null,
   "metadata": {},
   "outputs": [],
   "source": [
    "# genetic algorithm\n",
    "def ga(coord_list):\n",
    "    best_cost = np.Inf\n",
    "    print('Start Genetic Algorithm')\n",
    "    print('Initialize the population')\n",
    "    path_pool, pool_cost, path_map = initialization(coord_list)\n",
    "    print('Start the evolution')\n",
    "    for i in range(MAX_ITERATION):\n",
    "        if (i+1) % 1000 == 0:\n",
    "            print('Iteration {}'.format(i + 1))\n",
    "        # selection\n",
    "        sel_idx = selection(pool_cost, TOURNAMENT_SIZE)\n",
    "        # crossover\n",
    "        child_crx = crossover(path_pool[sel_idx[0]], path_pool[sel_idx[1]])\n",
    "        cost_crx = path_cost(path_map, child_crx).sum()\n",
    "        \n",
    "        # mutation\n",
    "        sel_idx = selection(pool_cost, TOURNAMENT_SIZE, sel_size=1)\n",
    "        child_mut = mutation(path_pool[sel_idx[0]])\n",
    "        cost_mut = path_cost(path_map, child_mut).sum()\n",
    "        # replace\n",
    "        sort_idx = np.argsort(pool_cost)\n",
    "\n",
    "        path_pool[sort_idx[-1]], pool_cost[sort_idx[-1]] = child_crx, cost_crx \n",
    "        path_pool[sort_idx[-2]], pool_cost[sort_idx[-2]] = child_mut, cost_mut \n",
    "\n",
    "        cur_idx = np.argmin(pool_cost)\n",
    "        cur_path = path_pool[cur_idx]\n",
    "        cur_cost = pool_cost[cur_idx]\n",
    "\n",
    "        if best_cost > cur_cost:\n",
    "            best_cost = cur_cost\n",
    "            if PLOT_MODE:\n",
    "                plt.close()\n",
    "                figure, ax = plt.subplots()\n",
    "                plt.scatter(coord_list[:, 0], coord_list[:, 1], c='red', s=10)\n",
    "                plt.title('City Route: Iteration {}'.format(i + 1))\n",
    "                coord_path = coord_list\n",
    "                coord_path = np.append(coord_path, coord_path[FIRST_IDX, :].reshape(1, 2), axis=0)\n",
    "                coord_path[:, :] = coord_path[cur_path, :]\n",
    "                lines, = ax.plot(coord_path[:, 0], coord_path[:, 1], 'k--')\n",
    "                figure.canvas.draw()\n",
    "                figure.canvas.flush_events()\n",
    "                plt.show()\n",
    "\n",
    "    best_idx = np.argmin(pool_cost)\n",
    "    return path_pool[best_idx], pool_cost[best_idx]"
   ]
  },
  {
   "cell_type": "markdown",
   "metadata": {},
   "source": [
    "# Main"
   ]
  },
  {
   "cell_type": "code",
   "execution_count": null,
   "metadata": {},
   "outputs": [],
   "source": [
    "# Step 1\n",
    "try:\n",
    "    coord_list = fileloader()\n",
    "except Exception as e:\n",
    "    print('예외 발생', e)\n",
    "    sys.exit()\n",
    "\n",
    "start_time = time.time()\n",
    "\n",
    "best_path, best_cost = ga(coord_list)\n",
    "\n",
    "print('Execution Time: ' + str(time.time() - start_time))\n",
    "print('Path: ' + str(best_path.tolist()))\n",
    "print('Cost: ' + str(best_cost))"
   ]
  },
  {
   "cell_type": "code",
   "execution_count": null,
   "metadata": {},
   "outputs": [],
   "source": []
  }
 ],
 "metadata": {
  "kernelspec": {
   "display_name": "Python 3 (ipykernel)",
   "language": "python",
   "name": "python3"
  },
  "language_info": {
   "codemirror_mode": {
    "name": "ipython",
    "version": 3
   },
   "file_extension": ".py",
   "mimetype": "text/x-python",
   "name": "python",
   "nbconvert_exporter": "python",
   "pygments_lexer": "ipython3",
   "version": "3.10.8"
  },
  "vscode": {
   "interpreter": {
    "hash": "b0fa6594d8f4cbf19f97940f81e996739fb7646882a419484c72d19e05852a7e"
   }
  }
 },
 "nbformat": 4,
 "nbformat_minor": 4
}

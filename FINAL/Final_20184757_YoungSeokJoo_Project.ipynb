{
 "cells": [
  {
   "cell_type": "markdown",
   "metadata": {},
   "source": [
    "# AI Machine Learning Practice "
   ]
  },
  {
   "cell_type": "markdown",
   "metadata": {},
   "source": [
    "# Informations\n",
    "\n",
    "- Dataset: Music dataset\n",
    "\n",
    "- Objectives: Classification\n",
    "\n",
    "- Time Limits: 1 min\n",
    "\n",
    "- Score: Classification Accuracy (Test Data)\n",
    "\n",
    "- Please read all markdowns carefully \n",
    "\n",
    "- About Dataset: Music Style Data\n",
    "    - 348 float type music features (frequency, tone, tempo, timbre...)\n",
    "    - Label: Music Style\n",
    "        - 1: Melancholy\n",
    "        - 2: Romantic\n",
    "        - 3: Rhythmical\n",
    "    \n",
    "## Various model testing code is on each practice code, \n",
    "### ./practice_code/Practice_Code_*.ipynb"
   ]
  },
  {
   "cell_type": "markdown",
   "metadata": {},
   "source": [
    "## [Step 0] Importing Packages\n",
    "\n",
    "You must specify all the packages you use in this practice in the cell below.\n",
    "\n"
   ]
  },
  {
   "cell_type": "code",
   "execution_count": 1,
   "metadata": {
    "ExecuteTime": {
     "end_time": "2021-09-24T17:39:25.142951Z",
     "start_time": "2021-09-24T17:39:18.604715Z"
    }
   },
   "outputs": [],
   "source": [
    "from __future__ import print_function\n",
    "import os\n",
    "data_path = ['data']\n",
    "\n",
    "from sklearn.preprocessing import MinMaxScaler, StandardScaler\n",
    "from sklearn.neighbors import KNeighborsClassifier\n",
    "from sklearn.naive_bayes import GaussianNB\n",
    "from sklearn.svm import SVC\n",
    "from sklearn.tree import DecisionTreeClassifier\n",
    "from sklearn.ensemble import BaggingClassifier\n",
    "from sklearn.pipeline import Pipeline\n",
    "from sklearn.ensemble import VotingClassifier\n",
    "from sklearn.model_selection import StratifiedKFold\n",
    "from sklearn.metrics import accuracy_score, confusion_matrix, balanced_accuracy_score, f1_score, precision_score, recall_score\n",
    "import numpy as np\n",
    "import pandas as pd\n",
    "import warnings\n",
    "warnings.filterwarnings('ignore', module='sklearn')\n",
    "\n",
    "import matplotlib.pyplot as plt\n",
    "import seaborn as sns\n",
    "%matplotlib inline"
   ]
  },
  {
   "cell_type": "markdown",
   "metadata": {},
   "source": [
    "## [Step 1] Read Data\n",
    "\n",
    "Train dataset is in the 'data' directory\n"
   ]
  },
  {
   "cell_type": "code",
   "execution_count": 2,
   "metadata": {
    "ExecuteTime": {
     "end_time": "2021-09-24T17:39:25.235951Z",
     "start_time": "2021-09-24T17:39:25.146960Z"
    }
   },
   "outputs": [],
   "source": [
    "# Import the data using the file path\n",
    "filepath = os.sep.join(data_path + ['music_train_data.csv'])\n",
    "data = pd.read_csv(filepath)"
   ]
  },
  {
   "cell_type": "code",
   "execution_count": 3,
   "metadata": {
    "ExecuteTime": {
     "end_time": "2021-09-24T17:39:27.802971Z",
     "start_time": "2021-09-24T17:39:25.239953Z"
    }
   },
   "outputs": [
    {
     "data": {
      "text/html": [
       "<div>\n",
       "<style scoped>\n",
       "    .dataframe tbody tr th:only-of-type {\n",
       "        vertical-align: middle;\n",
       "    }\n",
       "\n",
       "    .dataframe tbody tr th {\n",
       "        vertical-align: top;\n",
       "    }\n",
       "\n",
       "    .dataframe thead th {\n",
       "        text-align: right;\n",
       "    }\n",
       "</style>\n",
       "<table border=\"1\" class=\"dataframe\">\n",
       "  <thead>\n",
       "    <tr style=\"text-align: right;\">\n",
       "      <th></th>\n",
       "      <th>f1</th>\n",
       "      <th>f2</th>\n",
       "      <th>f3</th>\n",
       "      <th>f4</th>\n",
       "      <th>f5</th>\n",
       "      <th>f6</th>\n",
       "      <th>f7</th>\n",
       "      <th>f8</th>\n",
       "      <th>f9</th>\n",
       "      <th>f10</th>\n",
       "      <th>...</th>\n",
       "      <th>f340</th>\n",
       "      <th>f341</th>\n",
       "      <th>f342</th>\n",
       "      <th>f343</th>\n",
       "      <th>f344</th>\n",
       "      <th>f345</th>\n",
       "      <th>f346</th>\n",
       "      <th>f347</th>\n",
       "      <th>f348</th>\n",
       "      <th>answer</th>\n",
       "    </tr>\n",
       "  </thead>\n",
       "  <tbody>\n",
       "    <tr>\n",
       "      <th>0</th>\n",
       "      <td>-0.166614</td>\n",
       "      <td>0.284691</td>\n",
       "      <td>-0.011022</td>\n",
       "      <td>-1.028812</td>\n",
       "      <td>0.101653</td>\n",
       "      <td>0.498247</td>\n",
       "      <td>-0.314566</td>\n",
       "      <td>1.208697</td>\n",
       "      <td>-1.503008</td>\n",
       "      <td>-1.457764</td>\n",
       "      <td>...</td>\n",
       "      <td>2.136721</td>\n",
       "      <td>-1.193955</td>\n",
       "      <td>0.040614</td>\n",
       "      <td>1.127366</td>\n",
       "      <td>0.741521</td>\n",
       "      <td>-0.70773</td>\n",
       "      <td>0.077748</td>\n",
       "      <td>0.832992</td>\n",
       "      <td>-1.291423</td>\n",
       "      <td>2</td>\n",
       "    </tr>\n",
       "  </tbody>\n",
       "</table>\n",
       "<p>1 rows × 349 columns</p>\n",
       "</div>"
      ],
      "text/plain": [
       "         f1        f2        f3        f4        f5        f6        f7  \\\n",
       "0 -0.166614  0.284691 -0.011022 -1.028812  0.101653  0.498247 -0.314566   \n",
       "\n",
       "         f8        f9       f10  ...      f340      f341      f342      f343  \\\n",
       "0  1.208697 -1.503008 -1.457764  ...  2.136721 -1.193955  0.040614  1.127366   \n",
       "\n",
       "       f344     f345      f346      f347      f348  answer  \n",
       "0  0.741521 -0.70773  0.077748  0.832992 -1.291423       2  \n",
       "\n",
       "[1 rows x 349 columns]"
      ]
     },
     "execution_count": 3,
     "metadata": {},
     "output_type": "execute_result"
    }
   ],
   "source": [
    "data.head(1)"
   ]
  },
  {
   "cell_type": "code",
   "execution_count": 4,
   "metadata": {
    "ExecuteTime": {
     "end_time": "2021-09-24T17:39:27.834972Z",
     "start_time": "2021-09-24T17:39:27.822969Z"
    }
   },
   "outputs": [
    {
     "name": "stdout",
     "output_type": "stream",
     "text": [
      "(650, 349)\n",
      "f1        float64\n",
      "f2        float64\n",
      "f3        float64\n",
      "f4        float64\n",
      "f5        float64\n",
      "           ...   \n",
      "f345      float64\n",
      "f346      float64\n",
      "f347      float64\n",
      "f348      float64\n",
      "answer      int64\n",
      "Length: 349, dtype: object\n"
     ]
    }
   ],
   "source": [
    "print(data.shape)\n",
    "print(data.dtypes)"
   ]
  },
  {
   "cell_type": "code",
   "execution_count": 5,
   "metadata": {},
   "outputs": [],
   "source": [
    "features = data.columns[:-1]\n",
    "X_data = data[features]\n",
    "y_data = data['answer']"
   ]
  },
  {
   "cell_type": "code",
   "execution_count": 6,
   "metadata": {},
   "outputs": [
    {
     "name": "stdout",
     "output_type": "stream",
     "text": [
      "1    336\n",
      "2    240\n",
      "3     74\n",
      "Name: answer, dtype: int64\n"
     ]
    }
   ],
   "source": [
    "# Label proportion imbalanced\n",
    "print(y_data.value_counts(normalize=False).sort_index())"
   ]
  },
  {
   "cell_type": "markdown",
   "metadata": {},
   "source": [
    "## [Step 2] Data Preprocessing\n",
    "\n",
    "* Generate various preprocessing classes to use in **pipeline**\n",
    "* 1. Generate class that calculates each feature columns' correlation with other columns, and transforms with droping high correlation feature columns\n",
    "* 2. Generate custom classes with MinMaxScaler and StandardScaler\n",
    "* 3. Generate class that for minmax scaled data, check skewing of each columns, and transforming with applying log to columns with high skew values"
   ]
  },
  {
   "cell_type": "code",
   "execution_count": 7,
   "metadata": {},
   "outputs": [],
   "source": [
    "# Define class that drops column which has high correlation to other feature columns\n",
    "class CorrelationDrop:\n",
    "    def __init__(self, X_data):\n",
    "        # List of columns to be dropped\n",
    "        self.drop_col = list()\n",
    "        # Correlation between every feature columns\n",
    "        self.X_data_corr = pd.DataFrame(index=X_data.columns, columns=X_data.columns)\n",
    "        for col in X_data.columns:\n",
    "            self.X_data_corr[col] = X_data[X_data.columns].corrwith(X_data[col])\n",
    "        # Make value 0 in upper triangle\n",
    "        for i in range(len(self.X_data_corr.columns)):\n",
    "            self.X_data_corr.iloc[i,i:] = 0.\n",
    "        self.X_data_corr = self.X_data_corr.apply(abs)\n",
    "        self.X_data_drop = X_data.copy()\n",
    "        for col in self.X_data_corr.columns:\n",
    "            for row in self.X_data_corr.index:\n",
    "                if self.X_data_corr[col][row] >= 0.8:\n",
    "                    self.X_data_drop.drop(columns=col, inplace=True)\n",
    "                    self.drop_col.append(col)\n",
    "                    break\n",
    "    \n",
    "    def fit(self, X_data, y_data):\n",
    "        return self\n",
    "    \n",
    "    def transform(self, X_data):\n",
    "        X_data_drop = X_data.drop(columns=self.drop_col, inplace=False)\n",
    "        return X_data_drop"
   ]
  },
  {
   "cell_type": "code",
   "execution_count": 8,
   "metadata": {},
   "outputs": [],
   "source": [
    "# Initialize correlation drop class variable\n",
    "corrdrop = CorrelationDrop(X_data)"
   ]
  },
  {
   "cell_type": "code",
   "execution_count": 9,
   "metadata": {},
   "outputs": [],
   "source": [
    "# Define custom minmax scaling class\n",
    "class CustomMinmaxScaler:\n",
    "    def __init__(self, X_data):\n",
    "        self.msc = MinMaxScaler()\n",
    "        self.msc = self.msc.fit(X_data)\n",
    "    \n",
    "    def fit(self, X_data, y_data=None):\n",
    "        return self\n",
    "    \n",
    "    def transform(self, X_data):\n",
    "        return pd.DataFrame(self.msc.transform(X_data), columns=X_data.columns)"
   ]
  },
  {
   "cell_type": "code",
   "execution_count": 10,
   "metadata": {},
   "outputs": [],
   "source": [
    "# Initialize minmax scaling class variable\n",
    "msc = CustomMinmaxScaler(X_data)\n",
    "# Transform data to initialize skew class\n",
    "X_data_msc = msc.transform(X_data)"
   ]
  },
  {
   "cell_type": "code",
   "execution_count": 11,
   "metadata": {},
   "outputs": [],
   "source": [
    "# Define custom standard scaling class\n",
    "class CustomStandardScaler:\n",
    "    def __init__(self, X_data):\n",
    "        self.ssc = StandardScaler()\n",
    "        self.ssc = self.ssc.fit(X_data)\n",
    "    \n",
    "    def fit(self, X_data, y_data=None):\n",
    "        return self\n",
    "    \n",
    "    def transform(self, X_data):\n",
    "        return pd.DataFrame(self.ssc.transform(X_data), columns=X_data.columns)"
   ]
  },
  {
   "cell_type": "code",
   "execution_count": 12,
   "metadata": {},
   "outputs": [],
   "source": [
    "# Initialize standard scaling class variable\n",
    "ssc = CustomStandardScaler(X_data)"
   ]
  },
  {
   "cell_type": "code",
   "execution_count": 13,
   "metadata": {},
   "outputs": [],
   "source": [
    "# Define class that applies log to skewed columns\n",
    "class SkewLog:\n",
    "    def __init__(self, X_data_msc):\n",
    "        # list of columns for log to be applied\n",
    "        self.skew_cols = list()\n",
    "        self.skew_limit = 1.0\n",
    "        self.skew_vals = X_data_msc[X_data_msc.columns].skew()\n",
    "\n",
    "        self.skew_cols = (self.skew_vals\n",
    "                          .sort_values(ascending=False)\n",
    "                          .to_frame()\n",
    "                          .rename(columns={0:'Skew'})\n",
    "                          .query('abs(Skew) > {0}'.format(self.skew_limit))\n",
    "                         )\n",
    "    \n",
    "    def fit(self, X_data, y_data):\n",
    "        return self\n",
    "    \n",
    "    def transform(self, X_data_msc):\n",
    "        # apply log to skewed columns\n",
    "        pd.options.mode.chained_assignment = None\n",
    "        X_data_msc_skew = X_data_msc.copy()\n",
    "        for col in self.skew_cols.index.tolist():\n",
    "            X_data_msc_skew[col] = np.log1p(X_data_msc[col])\n",
    "        return X_data_msc_skew"
   ]
  },
  {
   "cell_type": "code",
   "execution_count": 14,
   "metadata": {},
   "outputs": [],
   "source": [
    "# Initialize skew log class variable\n",
    "skewlog = SkewLog(X_data_msc)"
   ]
  },
  {
   "cell_type": "code",
   "execution_count": 15,
   "metadata": {},
   "outputs": [],
   "source": [
    "# Transform function\n",
    "def transform_test(X_test_data):\n",
    "    return X_test_data"
   ]
  },
  {
   "cell_type": "markdown",
   "metadata": {},
   "source": [
    "## [Step 3] Model Training\n",
    "\n",
    "* From each practice code (KNN, NB, SVM, DT(+Bagging, Forest)), select best 2 models with highest balanced_accuracy value\n",
    "* Implement each model using pipeline with appropriate data preprocessing method (class)\n",
    "* Combine (stack) every implemented model using voting classifier"
   ]
  },
  {
   "cell_type": "code",
   "execution_count": 16,
   "metadata": {
    "ExecuteTime": {
     "end_time": "2021-09-24T17:39:31.808017Z",
     "start_time": "2021-09-24T17:39:31.796497Z"
    }
   },
   "outputs": [],
   "source": [
    "# Function to calculate the % of values that were correctly predicted\n",
    "def measure_error(y_true, y_pred, label=''):\n",
    "    return pd.Series({'accuracy':accuracy_score(y_true, y_pred),\n",
    "                      'precision': precision_score(y_true, y_pred, average='micro'),\n",
    "                      'recall': recall_score(y_true, y_pred, average='micro'),\n",
    "                      'balanced accuracy': balanced_accuracy_score(y_true, y_pred),\n",
    "                      'f1': f1_score(y_true, y_pred, average='micro')},\n",
    "                      name=label)"
   ]
  },
  {
   "cell_type": "code",
   "execution_count": 17,
   "metadata": {},
   "outputs": [],
   "source": [
    "# KNN best model 1\n",
    "knn1 = Pipeline([\n",
    "    ('msc', msc),\n",
    "    ('skewlog', skewlog),\n",
    "    ('knn', KNeighborsClassifier(n_neighbors=12, p=1, weights='distance'))\n",
    "])\n",
    "# knn1.fit(X_data, y_data)\n",
    "# y_pred = knn1.predict(X_data)\n",
    "# confusion_matrix(y_true=y_data, y_pred=y_pred), measure_error(y_true=y_data, y_pred=y_pred)"
   ]
  },
  {
   "cell_type": "code",
   "execution_count": 18,
   "metadata": {},
   "outputs": [],
   "source": [
    "# KNN best model 2\n",
    "knn2 = Pipeline([\n",
    "    ('msc', msc),\n",
    "    ('knn', KNeighborsClassifier(n_neighbors=8, p=1, weights='distance'))\n",
    "])\n",
    "# knn2.fit(X_data, y_data)\n",
    "# y_pred = knn2.predict(X_data)\n",
    "# confusion_matrix(y_true=y_data, y_pred=y_pred), measure_error(y_true=y_data, y_pred=y_pred)"
   ]
  },
  {
   "cell_type": "code",
   "execution_count": 19,
   "metadata": {},
   "outputs": [],
   "source": [
    "# NB best model 1\n",
    "nb1 = Pipeline([\n",
    "    ('msc', msc),\n",
    "    ('skewlog', skewlog),\n",
    "    ('gnb', GaussianNB())\n",
    "])\n",
    "# nb1.fit(X_data, y_data)\n",
    "# y_pred = nb1.predict(X_data)\n",
    "# confusion_matrix(y_true=y_data, y_pred=y_pred), measure_error(y_true=y_data, y_pred=y_pred)"
   ]
  },
  {
   "cell_type": "code",
   "execution_count": 20,
   "metadata": {},
   "outputs": [],
   "source": [
    "# NB best model 2\n",
    "nb2 = Pipeline([\n",
    "    ('ssc', ssc),\n",
    "    ('gnb', GaussianNB())\n",
    "])\n",
    "# nb2.fit(X_data, y_data)\n",
    "# y_pred = nb2.predict(X_data)\n",
    "# confusion_matrix(y_true=y_data, y_pred=y_pred), measure_error(y_true=y_data, y_pred=y_pred)"
   ]
  },
  {
   "cell_type": "code",
   "execution_count": 21,
   "metadata": {},
   "outputs": [],
   "source": [
    "# SVM best model 1\n",
    "svm1 = Pipeline([\n",
    "    ('msc', msc),\n",
    "    ('skewlog', skewlog),\n",
    "    ('svc', SVC(kernel='sigmoid', C=100, gamma=0.01, probability=True))\n",
    "])\n",
    "# svm1.fit(X_data, y_data)\n",
    "# y_pred = svm1.predict(X_data)\n",
    "# confusion_matrix(y_true=y_data, y_pred=y_pred), measure_error(y_true=y_data, y_pred=y_pred)"
   ]
  },
  {
   "cell_type": "code",
   "execution_count": 22,
   "metadata": {},
   "outputs": [],
   "source": [
    "# SVM best model 2\n",
    "svm2 = Pipeline([\n",
    "    ('msc', msc),\n",
    "    ('skewlog', skewlog),\n",
    "    ('svc', SVC(kernel='rbf', C=10, gamma=0.1, probability=True))\n",
    "])\n",
    "# svm2.fit(X_data, y_data)\n",
    "# y_pred = svm2.predict(X_data)\n",
    "# confusion_matrix(y_true=y_data, y_pred=y_pred), measure_error(y_true=y_data, y_pred=y_pred)"
   ]
  },
  {
   "cell_type": "code",
   "execution_count": 23,
   "metadata": {},
   "outputs": [],
   "source": [
    "# DT best model 1\n",
    "dt1 = DecisionTreeClassifier(max_depth=6, max_features=117)\n",
    "# dt1.fit(X_data, y_data)\n",
    "# y_pred = dt1.predict(X_data)\n",
    "# confusion_matrix(y_true=y_data, y_pred=y_pred), measure_error(y_true=y_data, y_pred=y_pred)"
   ]
  },
  {
   "cell_type": "code",
   "execution_count": 24,
   "metadata": {},
   "outputs": [],
   "source": [
    "# DT best model 2\n",
    "dt2 = BaggingClassifier(n_estimators=400)\n",
    "# dt2.fit(X_data, y_data)\n",
    "# y_pred = dt2.predict(X_data)\n",
    "# confusion_matrix(y_true=y_data, y_pred=y_pred), measure_error(y_true=y_data, y_pred=y_pred)"
   ]
  },
  {
   "cell_type": "code",
   "execution_count": 25,
   "metadata": {},
   "outputs": [],
   "source": [
    "# Construct stacking voting classifier with every models defined\n",
    "model = VotingClassifier([\n",
    "    ('knn1', knn1),\n",
    "    ('knn2', knn2),\n",
    "    ('nb1', nb1),\n",
    "    ('nb2', nb2),\n",
    "    ('svm1', svm1),\n",
    "    ('svm2', svm2),\n",
    "    ('dt1', dt1),\n",
    "    ('dt2', dt2)\n",
    "], voting='soft')"
   ]
  },
  {
   "cell_type": "code",
   "execution_count": 26,
   "metadata": {},
   "outputs": [
    {
     "data": {
      "text/html": [
       "<style>#sk-container-id-1 {color: black;background-color: white;}#sk-container-id-1 pre{padding: 0;}#sk-container-id-1 div.sk-toggleable {background-color: white;}#sk-container-id-1 label.sk-toggleable__label {cursor: pointer;display: block;width: 100%;margin-bottom: 0;padding: 0.3em;box-sizing: border-box;text-align: center;}#sk-container-id-1 label.sk-toggleable__label-arrow:before {content: \"▸\";float: left;margin-right: 0.25em;color: #696969;}#sk-container-id-1 label.sk-toggleable__label-arrow:hover:before {color: black;}#sk-container-id-1 div.sk-estimator:hover label.sk-toggleable__label-arrow:before {color: black;}#sk-container-id-1 div.sk-toggleable__content {max-height: 0;max-width: 0;overflow: hidden;text-align: left;background-color: #f0f8ff;}#sk-container-id-1 div.sk-toggleable__content pre {margin: 0.2em;color: black;border-radius: 0.25em;background-color: #f0f8ff;}#sk-container-id-1 input.sk-toggleable__control:checked~div.sk-toggleable__content {max-height: 200px;max-width: 100%;overflow: auto;}#sk-container-id-1 input.sk-toggleable__control:checked~label.sk-toggleable__label-arrow:before {content: \"▾\";}#sk-container-id-1 div.sk-estimator input.sk-toggleable__control:checked~label.sk-toggleable__label {background-color: #d4ebff;}#sk-container-id-1 div.sk-label input.sk-toggleable__control:checked~label.sk-toggleable__label {background-color: #d4ebff;}#sk-container-id-1 input.sk-hidden--visually {border: 0;clip: rect(1px 1px 1px 1px);clip: rect(1px, 1px, 1px, 1px);height: 1px;margin: -1px;overflow: hidden;padding: 0;position: absolute;width: 1px;}#sk-container-id-1 div.sk-estimator {font-family: monospace;background-color: #f0f8ff;border: 1px dotted black;border-radius: 0.25em;box-sizing: border-box;margin-bottom: 0.5em;}#sk-container-id-1 div.sk-estimator:hover {background-color: #d4ebff;}#sk-container-id-1 div.sk-parallel-item::after {content: \"\";width: 100%;border-bottom: 1px solid gray;flex-grow: 1;}#sk-container-id-1 div.sk-label:hover label.sk-toggleable__label {background-color: #d4ebff;}#sk-container-id-1 div.sk-serial::before {content: \"\";position: absolute;border-left: 1px solid gray;box-sizing: border-box;top: 0;bottom: 0;left: 50%;z-index: 0;}#sk-container-id-1 div.sk-serial {display: flex;flex-direction: column;align-items: center;background-color: white;padding-right: 0.2em;padding-left: 0.2em;position: relative;}#sk-container-id-1 div.sk-item {position: relative;z-index: 1;}#sk-container-id-1 div.sk-parallel {display: flex;align-items: stretch;justify-content: center;background-color: white;position: relative;}#sk-container-id-1 div.sk-item::before, #sk-container-id-1 div.sk-parallel-item::before {content: \"\";position: absolute;border-left: 1px solid gray;box-sizing: border-box;top: 0;bottom: 0;left: 50%;z-index: -1;}#sk-container-id-1 div.sk-parallel-item {display: flex;flex-direction: column;z-index: 1;position: relative;background-color: white;}#sk-container-id-1 div.sk-parallel-item:first-child::after {align-self: flex-end;width: 50%;}#sk-container-id-1 div.sk-parallel-item:last-child::after {align-self: flex-start;width: 50%;}#sk-container-id-1 div.sk-parallel-item:only-child::after {width: 0;}#sk-container-id-1 div.sk-dashed-wrapped {border: 1px dashed gray;margin: 0 0.4em 0.5em 0.4em;box-sizing: border-box;padding-bottom: 0.4em;background-color: white;}#sk-container-id-1 div.sk-label label {font-family: monospace;font-weight: bold;display: inline-block;line-height: 1.2em;}#sk-container-id-1 div.sk-label-container {text-align: center;}#sk-container-id-1 div.sk-container {/* jupyter's `normalize.less` sets `[hidden] { display: none; }` but bootstrap.min.css set `[hidden] { display: none !important; }` so we also need the `!important` here to be able to override the default hidden behavior on the sphinx rendered scikit-learn.org. See: https://github.com/scikit-learn/scikit-learn/issues/21755 */display: inline-block !important;position: relative;}#sk-container-id-1 div.sk-text-repr-fallback {display: none;}</style><div id=\"sk-container-id-1\" class=\"sk-top-container\"><div class=\"sk-text-repr-fallback\"><pre>VotingClassifier(estimators=[(&#x27;knn1&#x27;,\n",
       "                              Pipeline(steps=[(&#x27;msc&#x27;,\n",
       "                                               &lt;__main__.CustomMinmaxScaler object at 0x138894d30&gt;),\n",
       "                                              (&#x27;skewlog&#x27;,\n",
       "                                               &lt;__main__.SkewLog object at 0x138894c10&gt;),\n",
       "                                              (&#x27;knn&#x27;,\n",
       "                                               KNeighborsClassifier(n_neighbors=12,\n",
       "                                                                    p=1,\n",
       "                                                                    weights=&#x27;distance&#x27;))])),\n",
       "                             (&#x27;knn2&#x27;,\n",
       "                              Pipeline(steps=[(&#x27;msc&#x27;,\n",
       "                                               &lt;__main__.CustomMinmaxScaler object at 0x138894d30&gt;),\n",
       "                                              (&#x27;knn&#x27;,\n",
       "                                               KNeighborsClassifier(n_neighbor...\n",
       "                                               SVC(C=100, gamma=0.01,\n",
       "                                                   kernel=&#x27;sigmoid&#x27;,\n",
       "                                                   probability=True))])),\n",
       "                             (&#x27;svm2&#x27;,\n",
       "                              Pipeline(steps=[(&#x27;msc&#x27;,\n",
       "                                               &lt;__main__.CustomMinmaxScaler object at 0x138894d30&gt;),\n",
       "                                              (&#x27;skewlog&#x27;,\n",
       "                                               &lt;__main__.SkewLog object at 0x138894c10&gt;),\n",
       "                                              (&#x27;svc&#x27;,\n",
       "                                               SVC(C=10, gamma=0.1,\n",
       "                                                   probability=True))])),\n",
       "                             (&#x27;dt1&#x27;,\n",
       "                              DecisionTreeClassifier(max_depth=6,\n",
       "                                                     max_features=117)),\n",
       "                             (&#x27;dt2&#x27;, BaggingClassifier(n_estimators=400))],\n",
       "                 voting=&#x27;soft&#x27;)</pre><b>In a Jupyter environment, please rerun this cell to show the HTML representation or trust the notebook. <br />On GitHub, the HTML representation is unable to render, please try loading this page with nbviewer.org.</b></div><div class=\"sk-container\" hidden><div class=\"sk-item sk-dashed-wrapped\"><div class=\"sk-label-container\"><div class=\"sk-label sk-toggleable\"><input class=\"sk-toggleable__control sk-hidden--visually\" id=\"sk-estimator-id-1\" type=\"checkbox\" ><label for=\"sk-estimator-id-1\" class=\"sk-toggleable__label sk-toggleable__label-arrow\">VotingClassifier</label><div class=\"sk-toggleable__content\"><pre>VotingClassifier(estimators=[(&#x27;knn1&#x27;,\n",
       "                              Pipeline(steps=[(&#x27;msc&#x27;,\n",
       "                                               &lt;__main__.CustomMinmaxScaler object at 0x138894d30&gt;),\n",
       "                                              (&#x27;skewlog&#x27;,\n",
       "                                               &lt;__main__.SkewLog object at 0x138894c10&gt;),\n",
       "                                              (&#x27;knn&#x27;,\n",
       "                                               KNeighborsClassifier(n_neighbors=12,\n",
       "                                                                    p=1,\n",
       "                                                                    weights=&#x27;distance&#x27;))])),\n",
       "                             (&#x27;knn2&#x27;,\n",
       "                              Pipeline(steps=[(&#x27;msc&#x27;,\n",
       "                                               &lt;__main__.CustomMinmaxScaler object at 0x138894d30&gt;),\n",
       "                                              (&#x27;knn&#x27;,\n",
       "                                               KNeighborsClassifier(n_neighbor...\n",
       "                                               SVC(C=100, gamma=0.01,\n",
       "                                                   kernel=&#x27;sigmoid&#x27;,\n",
       "                                                   probability=True))])),\n",
       "                             (&#x27;svm2&#x27;,\n",
       "                              Pipeline(steps=[(&#x27;msc&#x27;,\n",
       "                                               &lt;__main__.CustomMinmaxScaler object at 0x138894d30&gt;),\n",
       "                                              (&#x27;skewlog&#x27;,\n",
       "                                               &lt;__main__.SkewLog object at 0x138894c10&gt;),\n",
       "                                              (&#x27;svc&#x27;,\n",
       "                                               SVC(C=10, gamma=0.1,\n",
       "                                                   probability=True))])),\n",
       "                             (&#x27;dt1&#x27;,\n",
       "                              DecisionTreeClassifier(max_depth=6,\n",
       "                                                     max_features=117)),\n",
       "                             (&#x27;dt2&#x27;, BaggingClassifier(n_estimators=400))],\n",
       "                 voting=&#x27;soft&#x27;)</pre></div></div></div><div class=\"sk-parallel\"><div class=\"sk-parallel-item\"><div class=\"sk-item\"><div class=\"sk-label-container\"><div class=\"sk-label sk-toggleable\"><label>knn1</label></div></div><div class=\"sk-serial\"><div class=\"sk-item\"><div class=\"sk-serial\"><div class=\"sk-item\"><div class=\"sk-estimator sk-toggleable\"><input class=\"sk-toggleable__control sk-hidden--visually\" id=\"sk-estimator-id-2\" type=\"checkbox\" ><label for=\"sk-estimator-id-2\" class=\"sk-toggleable__label sk-toggleable__label-arrow\">CustomMinmaxScaler</label><div class=\"sk-toggleable__content\"><pre>&lt;__main__.CustomMinmaxScaler object at 0x138894d30&gt;</pre></div></div></div><div class=\"sk-item\"><div class=\"sk-estimator sk-toggleable\"><input class=\"sk-toggleable__control sk-hidden--visually\" id=\"sk-estimator-id-3\" type=\"checkbox\" ><label for=\"sk-estimator-id-3\" class=\"sk-toggleable__label sk-toggleable__label-arrow\">SkewLog</label><div class=\"sk-toggleable__content\"><pre>&lt;__main__.SkewLog object at 0x138894c10&gt;</pre></div></div></div><div class=\"sk-item\"><div class=\"sk-estimator sk-toggleable\"><input class=\"sk-toggleable__control sk-hidden--visually\" id=\"sk-estimator-id-4\" type=\"checkbox\" ><label for=\"sk-estimator-id-4\" class=\"sk-toggleable__label sk-toggleable__label-arrow\">KNeighborsClassifier</label><div class=\"sk-toggleable__content\"><pre>KNeighborsClassifier(n_neighbors=12, p=1, weights=&#x27;distance&#x27;)</pre></div></div></div></div></div></div></div></div><div class=\"sk-parallel-item\"><div class=\"sk-item\"><div class=\"sk-label-container\"><div class=\"sk-label sk-toggleable\"><label>knn2</label></div></div><div class=\"sk-serial\"><div class=\"sk-item\"><div class=\"sk-serial\"><div class=\"sk-item\"><div class=\"sk-estimator sk-toggleable\"><input class=\"sk-toggleable__control sk-hidden--visually\" id=\"sk-estimator-id-5\" type=\"checkbox\" ><label for=\"sk-estimator-id-5\" class=\"sk-toggleable__label sk-toggleable__label-arrow\">CustomMinmaxScaler</label><div class=\"sk-toggleable__content\"><pre>&lt;__main__.CustomMinmaxScaler object at 0x138894d30&gt;</pre></div></div></div><div class=\"sk-item\"><div class=\"sk-estimator sk-toggleable\"><input class=\"sk-toggleable__control sk-hidden--visually\" id=\"sk-estimator-id-6\" type=\"checkbox\" ><label for=\"sk-estimator-id-6\" class=\"sk-toggleable__label sk-toggleable__label-arrow\">KNeighborsClassifier</label><div class=\"sk-toggleable__content\"><pre>KNeighborsClassifier(n_neighbors=8, p=1, weights=&#x27;distance&#x27;)</pre></div></div></div></div></div></div></div></div><div class=\"sk-parallel-item\"><div class=\"sk-item\"><div class=\"sk-label-container\"><div class=\"sk-label sk-toggleable\"><label>nb1</label></div></div><div class=\"sk-serial\"><div class=\"sk-item\"><div class=\"sk-serial\"><div class=\"sk-item\"><div class=\"sk-estimator sk-toggleable\"><input class=\"sk-toggleable__control sk-hidden--visually\" id=\"sk-estimator-id-7\" type=\"checkbox\" ><label for=\"sk-estimator-id-7\" class=\"sk-toggleable__label sk-toggleable__label-arrow\">CustomMinmaxScaler</label><div class=\"sk-toggleable__content\"><pre>&lt;__main__.CustomMinmaxScaler object at 0x138894d30&gt;</pre></div></div></div><div class=\"sk-item\"><div class=\"sk-estimator sk-toggleable\"><input class=\"sk-toggleable__control sk-hidden--visually\" id=\"sk-estimator-id-8\" type=\"checkbox\" ><label for=\"sk-estimator-id-8\" class=\"sk-toggleable__label sk-toggleable__label-arrow\">SkewLog</label><div class=\"sk-toggleable__content\"><pre>&lt;__main__.SkewLog object at 0x138894c10&gt;</pre></div></div></div><div class=\"sk-item\"><div class=\"sk-estimator sk-toggleable\"><input class=\"sk-toggleable__control sk-hidden--visually\" id=\"sk-estimator-id-9\" type=\"checkbox\" ><label for=\"sk-estimator-id-9\" class=\"sk-toggleable__label sk-toggleable__label-arrow\">GaussianNB</label><div class=\"sk-toggleable__content\"><pre>GaussianNB()</pre></div></div></div></div></div></div></div></div><div class=\"sk-parallel-item\"><div class=\"sk-item\"><div class=\"sk-label-container\"><div class=\"sk-label sk-toggleable\"><label>nb2</label></div></div><div class=\"sk-serial\"><div class=\"sk-item\"><div class=\"sk-serial\"><div class=\"sk-item\"><div class=\"sk-estimator sk-toggleable\"><input class=\"sk-toggleable__control sk-hidden--visually\" id=\"sk-estimator-id-10\" type=\"checkbox\" ><label for=\"sk-estimator-id-10\" class=\"sk-toggleable__label sk-toggleable__label-arrow\">CustomStandardScaler</label><div class=\"sk-toggleable__content\"><pre>&lt;__main__.CustomStandardScaler object at 0x1388949d0&gt;</pre></div></div></div><div class=\"sk-item\"><div class=\"sk-estimator sk-toggleable\"><input class=\"sk-toggleable__control sk-hidden--visually\" id=\"sk-estimator-id-11\" type=\"checkbox\" ><label for=\"sk-estimator-id-11\" class=\"sk-toggleable__label sk-toggleable__label-arrow\">GaussianNB</label><div class=\"sk-toggleable__content\"><pre>GaussianNB()</pre></div></div></div></div></div></div></div></div><div class=\"sk-parallel-item\"><div class=\"sk-item\"><div class=\"sk-label-container\"><div class=\"sk-label sk-toggleable\"><label>svm1</label></div></div><div class=\"sk-serial\"><div class=\"sk-item\"><div class=\"sk-serial\"><div class=\"sk-item\"><div class=\"sk-estimator sk-toggleable\"><input class=\"sk-toggleable__control sk-hidden--visually\" id=\"sk-estimator-id-12\" type=\"checkbox\" ><label for=\"sk-estimator-id-12\" class=\"sk-toggleable__label sk-toggleable__label-arrow\">CustomMinmaxScaler</label><div class=\"sk-toggleable__content\"><pre>&lt;__main__.CustomMinmaxScaler object at 0x138894d30&gt;</pre></div></div></div><div class=\"sk-item\"><div class=\"sk-estimator sk-toggleable\"><input class=\"sk-toggleable__control sk-hidden--visually\" id=\"sk-estimator-id-13\" type=\"checkbox\" ><label for=\"sk-estimator-id-13\" class=\"sk-toggleable__label sk-toggleable__label-arrow\">SkewLog</label><div class=\"sk-toggleable__content\"><pre>&lt;__main__.SkewLog object at 0x138894c10&gt;</pre></div></div></div><div class=\"sk-item\"><div class=\"sk-estimator sk-toggleable\"><input class=\"sk-toggleable__control sk-hidden--visually\" id=\"sk-estimator-id-14\" type=\"checkbox\" ><label for=\"sk-estimator-id-14\" class=\"sk-toggleable__label sk-toggleable__label-arrow\">SVC</label><div class=\"sk-toggleable__content\"><pre>SVC(C=100, gamma=0.01, kernel=&#x27;sigmoid&#x27;, probability=True)</pre></div></div></div></div></div></div></div></div><div class=\"sk-parallel-item\"><div class=\"sk-item\"><div class=\"sk-label-container\"><div class=\"sk-label sk-toggleable\"><label>svm2</label></div></div><div class=\"sk-serial\"><div class=\"sk-item\"><div class=\"sk-serial\"><div class=\"sk-item\"><div class=\"sk-estimator sk-toggleable\"><input class=\"sk-toggleable__control sk-hidden--visually\" id=\"sk-estimator-id-15\" type=\"checkbox\" ><label for=\"sk-estimator-id-15\" class=\"sk-toggleable__label sk-toggleable__label-arrow\">CustomMinmaxScaler</label><div class=\"sk-toggleable__content\"><pre>&lt;__main__.CustomMinmaxScaler object at 0x138894d30&gt;</pre></div></div></div><div class=\"sk-item\"><div class=\"sk-estimator sk-toggleable\"><input class=\"sk-toggleable__control sk-hidden--visually\" id=\"sk-estimator-id-16\" type=\"checkbox\" ><label for=\"sk-estimator-id-16\" class=\"sk-toggleable__label sk-toggleable__label-arrow\">SkewLog</label><div class=\"sk-toggleable__content\"><pre>&lt;__main__.SkewLog object at 0x138894c10&gt;</pre></div></div></div><div class=\"sk-item\"><div class=\"sk-estimator sk-toggleable\"><input class=\"sk-toggleable__control sk-hidden--visually\" id=\"sk-estimator-id-17\" type=\"checkbox\" ><label for=\"sk-estimator-id-17\" class=\"sk-toggleable__label sk-toggleable__label-arrow\">SVC</label><div class=\"sk-toggleable__content\"><pre>SVC(C=10, gamma=0.1, probability=True)</pre></div></div></div></div></div></div></div></div><div class=\"sk-parallel-item\"><div class=\"sk-item\"><div class=\"sk-label-container\"><div class=\"sk-label sk-toggleable\"><label>dt1</label></div></div><div class=\"sk-serial\"><div class=\"sk-item\"><div class=\"sk-estimator sk-toggleable\"><input class=\"sk-toggleable__control sk-hidden--visually\" id=\"sk-estimator-id-18\" type=\"checkbox\" ><label for=\"sk-estimator-id-18\" class=\"sk-toggleable__label sk-toggleable__label-arrow\">DecisionTreeClassifier</label><div class=\"sk-toggleable__content\"><pre>DecisionTreeClassifier(max_depth=6, max_features=117)</pre></div></div></div></div></div></div><div class=\"sk-parallel-item\"><div class=\"sk-item\"><div class=\"sk-label-container\"><div class=\"sk-label sk-toggleable\"><label>dt2</label></div></div><div class=\"sk-serial\"><div class=\"sk-item\"><div class=\"sk-estimator sk-toggleable\"><input class=\"sk-toggleable__control sk-hidden--visually\" id=\"sk-estimator-id-19\" type=\"checkbox\" ><label for=\"sk-estimator-id-19\" class=\"sk-toggleable__label sk-toggleable__label-arrow\">BaggingClassifier</label><div class=\"sk-toggleable__content\"><pre>BaggingClassifier(n_estimators=400)</pre></div></div></div></div></div></div></div></div></div></div>"
      ],
      "text/plain": [
       "VotingClassifier(estimators=[('knn1',\n",
       "                              Pipeline(steps=[('msc',\n",
       "                                               <__main__.CustomMinmaxScaler object at 0x138894d30>),\n",
       "                                              ('skewlog',\n",
       "                                               <__main__.SkewLog object at 0x138894c10>),\n",
       "                                              ('knn',\n",
       "                                               KNeighborsClassifier(n_neighbors=12,\n",
       "                                                                    p=1,\n",
       "                                                                    weights='distance'))])),\n",
       "                             ('knn2',\n",
       "                              Pipeline(steps=[('msc',\n",
       "                                               <__main__.CustomMinmaxScaler object at 0x138894d30>),\n",
       "                                              ('knn',\n",
       "                                               KNeighborsClassifier(n_neighbor...\n",
       "                                               SVC(C=100, gamma=0.01,\n",
       "                                                   kernel='sigmoid',\n",
       "                                                   probability=True))])),\n",
       "                             ('svm2',\n",
       "                              Pipeline(steps=[('msc',\n",
       "                                               <__main__.CustomMinmaxScaler object at 0x138894d30>),\n",
       "                                              ('skewlog',\n",
       "                                               <__main__.SkewLog object at 0x138894c10>),\n",
       "                                              ('svc',\n",
       "                                               SVC(C=10, gamma=0.1,\n",
       "                                                   probability=True))])),\n",
       "                             ('dt1',\n",
       "                              DecisionTreeClassifier(max_depth=6,\n",
       "                                                     max_features=117)),\n",
       "                             ('dt2', BaggingClassifier(n_estimators=400))],\n",
       "                 voting='soft')"
      ]
     },
     "execution_count": 26,
     "metadata": {},
     "output_type": "execute_result"
    }
   ],
   "source": [
    "# Train with whole dataset, since there are only few training data\n",
    "# Each model cross validation result is in each file\n",
    "\n",
    "model.fit(X_data, y_data)"
   ]
  },
  {
   "cell_type": "code",
   "execution_count": 27,
   "metadata": {},
   "outputs": [],
   "source": [
    "# Predict whole dataset\n",
    "y_pred = model.predict(X_data)"
   ]
  },
  {
   "cell_type": "markdown",
   "metadata": {},
   "source": [
    "## Check Accuracy \n",
    "\n",
    "* Check your Train data accuracy"
   ]
  },
  {
   "cell_type": "code",
   "execution_count": 28,
   "metadata": {},
   "outputs": [
    {
     "data": {
      "text/plain": [
       "0.9984615384615385"
      ]
     },
     "execution_count": 28,
     "metadata": {},
     "output_type": "execute_result"
    }
   ],
   "source": [
    "# Calculate \n",
    "accuracy_score(y_true=y_data, y_pred=y_pred)"
   ]
  },
  {
   "cell_type": "markdown",
   "metadata": {},
   "source": [
    "## Analysis "
   ]
  },
  {
   "cell_type": "code",
   "execution_count": 29,
   "metadata": {},
   "outputs": [
    {
     "data": {
      "image/png": "[encoded data removed]",
      "text/plain": [
       "<Figure size 640x480 with 2 Axes>"
      ]
     },
     "metadata": {},
     "output_type": "display_data"
    }
   ],
   "source": [
    "# Plot confusion matrix\n",
    "sns.set_context('talk')\n",
    "cm = confusion_matrix(y_true=y_data, y_pred=y_pred)\n",
    "ax = sns.heatmap(cm, annot=True, fmt='d')"
   ]
  },
  {
   "cell_type": "code",
   "execution_count": 30,
   "metadata": {},
   "outputs": [
    {
     "data": {
      "text/html": [
       "<div>\n",
       "<style scoped>\n",
       "    .dataframe tbody tr th:only-of-type {\n",
       "        vertical-align: middle;\n",
       "    }\n",
       "\n",
       "    .dataframe tbody tr th {\n",
       "        vertical-align: top;\n",
       "    }\n",
       "\n",
       "    .dataframe thead th {\n",
       "        text-align: right;\n",
       "    }\n",
       "</style>\n",
       "<table border=\"1\" class=\"dataframe\">\n",
       "  <thead>\n",
       "    <tr style=\"text-align: right;\">\n",
       "      <th></th>\n",
       "      <th></th>\n",
       "    </tr>\n",
       "  </thead>\n",
       "  <tbody>\n",
       "    <tr>\n",
       "      <th>accuracy</th>\n",
       "      <td>0.998462</td>\n",
       "    </tr>\n",
       "    <tr>\n",
       "      <th>precision</th>\n",
       "      <td>0.998462</td>\n",
       "    </tr>\n",
       "    <tr>\n",
       "      <th>recall</th>\n",
       "      <td>0.998462</td>\n",
       "    </tr>\n",
       "    <tr>\n",
       "      <th>balanced accuracy</th>\n",
       "      <td>0.995495</td>\n",
       "    </tr>\n",
       "    <tr>\n",
       "      <th>f1</th>\n",
       "      <td>0.998462</td>\n",
       "    </tr>\n",
       "  </tbody>\n",
       "</table>\n",
       "</div>"
      ],
      "text/plain": [
       "                           \n",
       "accuracy           0.998462\n",
       "precision          0.998462\n",
       "recall             0.998462\n",
       "balanced accuracy  0.995495\n",
       "f1                 0.998462"
      ]
     },
     "execution_count": 30,
     "metadata": {},
     "output_type": "execute_result"
    }
   ],
   "source": [
    "# Various error measures\n",
    "train_test_error = pd.concat([measure_error(y_true=y_data, y_pred=y_pred)], axis=1)\n",
    "train_test_error"
   ]
  },
  {
   "cell_type": "markdown",
   "metadata": {},
   "source": [
    "Since the model was trained and tested with whole training data, without splitting training and test dataset, the model has very high, almost perfect accuracy and prediction results. It may have been overfitted to training datasets, but the training dataset was too small for predicting new unseen data. So it was inevitable to utilize the whole dataset. To avoid overfitting, the model implements voting classifier, which uses stacking method, which contains various heterogeneous classification models. Each classification model was tested in each practice code, with 5-fold stratified cross validation. Each model was selected with highest balanced accuracy measure, which can properly evaluate and deal with imbalanced dataset. Balanced accuracy is defined as the average of recall obtained on each class."
   ]
  },
  {
   "cell_type": "markdown",
   "metadata": {},
   "source": [
    "# Test data\n",
    "\n",
    "* TA will check your model's test data accuracy\n",
    "* (Important) Do not change the code below"
   ]
  },
  {
   "cell_type": "code",
   "execution_count": 31,
   "metadata": {},
   "outputs": [],
   "source": [
    "filepath = os.sep.join( ['data', 'music_test_data.csv'])\n",
    "t_data = pd.read_csv(filepath)\n",
    "features = t_data.columns\n",
    "X_t_data = t_data[features]\n",
    "X_t_data = transform_test(X_t_data)\n",
    "\n",
    "y_pred = model.predict(X_t_data)\n",
    "np.savetxt('out.txt', y_pred, fmt='%d', delimiter='\\n')"
   ]
  },
  {
   "cell_type": "code",
   "execution_count": null,
   "metadata": {},
   "outputs": [],
   "source": []
  }
 ],
 "metadata": {
  "anaconda-cloud": {},
  "kernelspec": {
   "display_name": "Python 3 (ipykernel)",
   "language": "python",
   "name": "python3"
  },
  "language_info": {
   "codemirror_mode": {
    "name": "ipython",
    "version": 3
   },
   "file_extension": ".py",
   "mimetype": "text/x-python",
   "name": "python",
   "nbconvert_exporter": "python",
   "pygments_lexer": "ipython3",
   "version": "3.10.9"
  },
  "name": "Linear_Regression_and_K_Nearest_Neighbors_Exercises-ANSWERS",
  "notebookId": 2125319687183902,
  "vscode": {
   "interpreter": {
    "hash": "b0fa6594d8f4cbf19f97940f81e996739fb7646882a419484c72d19e05852a7e"
   }
  }
 },
 "nbformat": 4,
 "nbformat_minor": 1
}

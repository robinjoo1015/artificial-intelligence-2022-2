{
 "cells": [
  {
   "cell_type": "markdown",
   "metadata": {},
   "source": [
    "# AI Machine Learning Practice "
   ]
  },
  {
   "cell_type": "markdown",
   "metadata": {},
   "source": [
    "# Informations\n",
    "\n",
    "- Dataset: Music dataset\n",
    "\n",
    "- Objectives: Classification\n",
    "\n",
    "- Time Limits: 1 min\n",
    "\n",
    "- Score: Classification Accuracy (Test Data)\n",
    "\n",
    "- Please read all markdowns carefully \n",
    "\n",
    "- About Dataset: Music Style Data\n",
    "    - 348 float type music features (frequency, tone, tempo, timbre...)\n",
    "    - Label: Music Style\n",
    "        - 1: Melancholy\n",
    "        - 2: Romantic\n",
    "        - 3: Rhythmical\n",
    "    "
   ]
  },
  {
   "cell_type": "markdown",
   "metadata": {},
   "source": [
    "## [Step 0] Importing Packages\n",
    "\n",
    "You must specify all the packages you use in this practice in the cell below.\n",
    "\n"
   ]
  },
  {
   "cell_type": "code",
   "execution_count": 1,
   "metadata": {
    "ExecuteTime": {
     "end_time": "2021-09-24T17:39:25.142951Z",
     "start_time": "2021-09-24T17:39:18.604715Z"
    }
   },
   "outputs": [],
   "source": [
    "from __future__ import print_function\n",
    "import os\n",
    "data_path = ['data']\n",
    "\n",
    "from sklearn.preprocessing import MinMaxScaler\n",
    "from sklearn.neighbors import KNeighborsClassifier\n",
    "import numpy as np"
   ]
  },
  {
   "cell_type": "markdown",
   "metadata": {},
   "source": [
    "## [Step 1] Read Data\n",
    "\n",
    "Train dataset is in the 'data' directory\n"
   ]
  },
  {
   "cell_type": "code",
   "execution_count": 2,
   "metadata": {
    "ExecuteTime": {
     "end_time": "2021-09-24T17:39:25.235951Z",
     "start_time": "2021-09-24T17:39:25.146960Z"
    }
   },
   "outputs": [],
   "source": [
    "import pandas as pd\n",
    "\n",
    "# Import the data using the file path\n",
    "filepath = os.sep.join(data_path + ['music_train_data.csv'])\n",
    "data = pd.read_csv(filepath)"
   ]
  },
  {
   "cell_type": "code",
   "execution_count": 3,
   "metadata": {
    "ExecuteTime": {
     "end_time": "2021-09-24T17:39:27.802971Z",
     "start_time": "2021-09-24T17:39:25.239953Z"
    }
   },
   "outputs": [
    {
     "data": {
      "text/html": [
       "<div>\n",
       "<style scoped>\n",
       "    .dataframe tbody tr th:only-of-type {\n",
       "        vertical-align: middle;\n",
       "    }\n",
       "\n",
       "    .dataframe tbody tr th {\n",
       "        vertical-align: top;\n",
       "    }\n",
       "\n",
       "    .dataframe thead th {\n",
       "        text-align: right;\n",
       "    }\n",
       "</style>\n",
       "<table border=\"1\" class=\"dataframe\">\n",
       "  <thead>\n",
       "    <tr style=\"text-align: right;\">\n",
       "      <th></th>\n",
       "      <th>f1</th>\n",
       "      <th>f2</th>\n",
       "      <th>f3</th>\n",
       "      <th>f4</th>\n",
       "      <th>f5</th>\n",
       "      <th>f6</th>\n",
       "      <th>f7</th>\n",
       "      <th>f8</th>\n",
       "      <th>f9</th>\n",
       "      <th>f10</th>\n",
       "      <th>...</th>\n",
       "      <th>f340</th>\n",
       "      <th>f341</th>\n",
       "      <th>f342</th>\n",
       "      <th>f343</th>\n",
       "      <th>f344</th>\n",
       "      <th>f345</th>\n",
       "      <th>f346</th>\n",
       "      <th>f347</th>\n",
       "      <th>f348</th>\n",
       "      <th>answer</th>\n",
       "    </tr>\n",
       "  </thead>\n",
       "  <tbody>\n",
       "    <tr>\n",
       "      <th>0</th>\n",
       "      <td>-0.166614</td>\n",
       "      <td>0.284691</td>\n",
       "      <td>-0.011022</td>\n",
       "      <td>-1.028812</td>\n",
       "      <td>0.101653</td>\n",
       "      <td>0.498247</td>\n",
       "      <td>-0.314566</td>\n",
       "      <td>1.208697</td>\n",
       "      <td>-1.503008</td>\n",
       "      <td>-1.457764</td>\n",
       "      <td>...</td>\n",
       "      <td>2.136721</td>\n",
       "      <td>-1.193955</td>\n",
       "      <td>0.040614</td>\n",
       "      <td>1.127366</td>\n",
       "      <td>0.741521</td>\n",
       "      <td>-0.70773</td>\n",
       "      <td>0.077748</td>\n",
       "      <td>0.832992</td>\n",
       "      <td>-1.291423</td>\n",
       "      <td>2</td>\n",
       "    </tr>\n",
       "  </tbody>\n",
       "</table>\n",
       "<p>1 rows × 349 columns</p>\n",
       "</div>"
      ],
      "text/plain": [
       "         f1        f2        f3        f4        f5        f6        f7  \\\n",
       "0 -0.166614  0.284691 -0.011022 -1.028812  0.101653  0.498247 -0.314566   \n",
       "\n",
       "         f8        f9       f10  ...      f340      f341      f342      f343  \\\n",
       "0  1.208697 -1.503008 -1.457764  ...  2.136721 -1.193955  0.040614  1.127366   \n",
       "\n",
       "       f344     f345      f346      f347      f348  answer  \n",
       "0  0.741521 -0.70773  0.077748  0.832992 -1.291423       2  \n",
       "\n",
       "[1 rows x 349 columns]"
      ]
     },
     "execution_count": 3,
     "metadata": {},
     "output_type": "execute_result"
    }
   ],
   "source": [
    "data.head(1)"
   ]
  },
  {
   "cell_type": "code",
   "execution_count": 4,
   "metadata": {
    "ExecuteTime": {
     "end_time": "2021-09-24T17:39:27.834972Z",
     "start_time": "2021-09-24T17:39:27.822969Z"
    }
   },
   "outputs": [
    {
     "name": "stdout",
     "output_type": "stream",
     "text": [
      "(650, 349)\n",
      "f1        float64\n",
      "f2        float64\n",
      "f3        float64\n",
      "f4        float64\n",
      "f5        float64\n",
      "           ...   \n",
      "f345      float64\n",
      "f346      float64\n",
      "f347      float64\n",
      "f348      float64\n",
      "answer      int64\n",
      "Length: 349, dtype: object\n"
     ]
    }
   ],
   "source": [
    "print(data.shape)\n",
    "print(data.dtypes)"
   ]
  },
  {
   "cell_type": "code",
   "execution_count": 5,
   "metadata": {},
   "outputs": [],
   "source": [
    "features = data.columns[:-1]\n",
    "X_data = data[features]\n",
    "y_data = data['answer']"
   ]
  },
  {
   "cell_type": "markdown",
   "metadata": {},
   "source": [
    "## [Step 2] Data Preprocessing\n",
    "\n",
    "* Preprocessing Code below \n",
    "* You must explain your method in this markdown\n",
    "* (Important) You must define transfrom function for test data"
   ]
  },
  {
   "cell_type": "code",
   "execution_count": 6,
   "metadata": {
    "ExecuteTime": {
     "end_time": "2021-09-24T17:39:28.053972Z",
     "start_time": "2021-09-24T17:39:27.838972Z"
    }
   },
   "outputs": [
    {
     "data": {
      "text/html": [
       "<div>\n",
       "<style scoped>\n",
       "    .dataframe tbody tr th:only-of-type {\n",
       "        vertical-align: middle;\n",
       "    }\n",
       "\n",
       "    .dataframe tbody tr th {\n",
       "        vertical-align: top;\n",
       "    }\n",
       "\n",
       "    .dataframe thead th {\n",
       "        text-align: right;\n",
       "    }\n",
       "</style>\n",
       "<table border=\"1\" class=\"dataframe\">\n",
       "  <thead>\n",
       "    <tr style=\"text-align: right;\">\n",
       "      <th></th>\n",
       "      <th>f1</th>\n",
       "      <th>f2</th>\n",
       "      <th>f3</th>\n",
       "      <th>f4</th>\n",
       "      <th>f5</th>\n",
       "      <th>f6</th>\n",
       "      <th>f7</th>\n",
       "      <th>f8</th>\n",
       "      <th>f9</th>\n",
       "      <th>f10</th>\n",
       "      <th>...</th>\n",
       "      <th>f339</th>\n",
       "      <th>f340</th>\n",
       "      <th>f341</th>\n",
       "      <th>f342</th>\n",
       "      <th>f343</th>\n",
       "      <th>f344</th>\n",
       "      <th>f345</th>\n",
       "      <th>f346</th>\n",
       "      <th>f347</th>\n",
       "      <th>f348</th>\n",
       "    </tr>\n",
       "  </thead>\n",
       "  <tbody>\n",
       "    <tr>\n",
       "      <th>0</th>\n",
       "      <td>0.630211</td>\n",
       "      <td>0.538339</td>\n",
       "      <td>0.463760</td>\n",
       "      <td>0.040328</td>\n",
       "      <td>0.736837</td>\n",
       "      <td>0.780866</td>\n",
       "      <td>0.280180</td>\n",
       "      <td>0.264939</td>\n",
       "      <td>0.210008</td>\n",
       "      <td>0.169543</td>\n",
       "      <td>...</td>\n",
       "      <td>0.487044</td>\n",
       "      <td>0.518064</td>\n",
       "      <td>0.095777</td>\n",
       "      <td>0.522590</td>\n",
       "      <td>0.586644</td>\n",
       "      <td>0.320691</td>\n",
       "      <td>0.475852</td>\n",
       "      <td>0.228383</td>\n",
       "      <td>0.780030</td>\n",
       "      <td>0.362149</td>\n",
       "    </tr>\n",
       "    <tr>\n",
       "      <th>1</th>\n",
       "      <td>0.552919</td>\n",
       "      <td>0.606669</td>\n",
       "      <td>0.201281</td>\n",
       "      <td>0.116883</td>\n",
       "      <td>0.527880</td>\n",
       "      <td>0.914367</td>\n",
       "      <td>0.110937</td>\n",
       "      <td>0.053678</td>\n",
       "      <td>0.436478</td>\n",
       "      <td>0.483335</td>\n",
       "      <td>...</td>\n",
       "      <td>0.518388</td>\n",
       "      <td>0.008166</td>\n",
       "      <td>0.231839</td>\n",
       "      <td>0.684377</td>\n",
       "      <td>0.242407</td>\n",
       "      <td>0.143329</td>\n",
       "      <td>0.379794</td>\n",
       "      <td>0.364343</td>\n",
       "      <td>0.347010</td>\n",
       "      <td>0.594168</td>\n",
       "    </tr>\n",
       "    <tr>\n",
       "      <th>2</th>\n",
       "      <td>0.621325</td>\n",
       "      <td>0.551232</td>\n",
       "      <td>0.578177</td>\n",
       "      <td>0.174603</td>\n",
       "      <td>0.573474</td>\n",
       "      <td>0.715899</td>\n",
       "      <td>0.222025</td>\n",
       "      <td>0.054080</td>\n",
       "      <td>0.437189</td>\n",
       "      <td>0.647545</td>\n",
       "      <td>...</td>\n",
       "      <td>0.317538</td>\n",
       "      <td>0.221009</td>\n",
       "      <td>0.251789</td>\n",
       "      <td>0.472166</td>\n",
       "      <td>0.226927</td>\n",
       "      <td>0.179582</td>\n",
       "      <td>0.605205</td>\n",
       "      <td>0.027091</td>\n",
       "      <td>0.341074</td>\n",
       "      <td>0.421470</td>\n",
       "    </tr>\n",
       "    <tr>\n",
       "      <th>3</th>\n",
       "      <td>0.652887</td>\n",
       "      <td>0.513503</td>\n",
       "      <td>0.618537</td>\n",
       "      <td>0.072859</td>\n",
       "      <td>0.618504</td>\n",
       "      <td>0.617193</td>\n",
       "      <td>0.206250</td>\n",
       "      <td>0.047912</td>\n",
       "      <td>0.642507</td>\n",
       "      <td>0.462350</td>\n",
       "      <td>...</td>\n",
       "      <td>0.548682</td>\n",
       "      <td>0.251897</td>\n",
       "      <td>0.268742</td>\n",
       "      <td>0.298482</td>\n",
       "      <td>0.306300</td>\n",
       "      <td>0.130865</td>\n",
       "      <td>0.000000</td>\n",
       "      <td>0.407966</td>\n",
       "      <td>0.829491</td>\n",
       "      <td>0.609766</td>\n",
       "    </tr>\n",
       "    <tr>\n",
       "      <th>4</th>\n",
       "      <td>0.805443</td>\n",
       "      <td>0.343634</td>\n",
       "      <td>0.486271</td>\n",
       "      <td>0.549784</td>\n",
       "      <td>0.850448</td>\n",
       "      <td>0.701505</td>\n",
       "      <td>0.384685</td>\n",
       "      <td>0.245385</td>\n",
       "      <td>0.422189</td>\n",
       "      <td>0.215617</td>\n",
       "      <td>...</td>\n",
       "      <td>0.549331</td>\n",
       "      <td>0.030774</td>\n",
       "      <td>0.267452</td>\n",
       "      <td>0.413211</td>\n",
       "      <td>0.655781</td>\n",
       "      <td>0.263345</td>\n",
       "      <td>0.464220</td>\n",
       "      <td>0.143440</td>\n",
       "      <td>0.873379</td>\n",
       "      <td>0.567479</td>\n",
       "    </tr>\n",
       "  </tbody>\n",
       "</table>\n",
       "<p>5 rows × 348 columns</p>\n",
       "</div>"
      ],
      "text/plain": [
       "         f1        f2        f3        f4        f5        f6        f7  \\\n",
       "0  0.630211  0.538339  0.463760  0.040328  0.736837  0.780866  0.280180   \n",
       "1  0.552919  0.606669  0.201281  0.116883  0.527880  0.914367  0.110937   \n",
       "2  0.621325  0.551232  0.578177  0.174603  0.573474  0.715899  0.222025   \n",
       "3  0.652887  0.513503  0.618537  0.072859  0.618504  0.617193  0.206250   \n",
       "4  0.805443  0.343634  0.486271  0.549784  0.850448  0.701505  0.384685   \n",
       "\n",
       "         f8        f9       f10  ...      f339      f340      f341      f342  \\\n",
       "0  0.264939  0.210008  0.169543  ...  0.487044  0.518064  0.095777  0.522590   \n",
       "1  0.053678  0.436478  0.483335  ...  0.518388  0.008166  0.231839  0.684377   \n",
       "2  0.054080  0.437189  0.647545  ...  0.317538  0.221009  0.251789  0.472166   \n",
       "3  0.047912  0.642507  0.462350  ...  0.548682  0.251897  0.268742  0.298482   \n",
       "4  0.245385  0.422189  0.215617  ...  0.549331  0.030774  0.267452  0.413211   \n",
       "\n",
       "       f343      f344      f345      f346      f347      f348  \n",
       "0  0.586644  0.320691  0.475852  0.228383  0.780030  0.362149  \n",
       "1  0.242407  0.143329  0.379794  0.364343  0.347010  0.594168  \n",
       "2  0.226927  0.179582  0.605205  0.027091  0.341074  0.421470  \n",
       "3  0.306300  0.130865  0.000000  0.407966  0.829491  0.609766  \n",
       "4  0.655781  0.263345  0.464220  0.143440  0.873379  0.567479  \n",
       "\n",
       "[5 rows x 348 columns]"
      ]
     },
     "execution_count": 6,
     "metadata": {},
     "output_type": "execute_result"
    }
   ],
   "source": [
    "# Sample Code - Min Max Scaling\n",
    "import warnings\n",
    "warnings.filterwarnings('ignore', module='sklearn')\n",
    "msc = MinMaxScaler()\n",
    "\n",
    "X_data = pd.DataFrame(msc.fit_transform(X_data),  # this is an np.array, not a dataframe.\n",
    "                    columns=X_data.columns)\n",
    "\n",
    "X_data.head(5)"
   ]
  },
  {
   "cell_type": "code",
   "execution_count": 7,
   "metadata": {},
   "outputs": [],
   "source": [
    "# transform function\n",
    "# Do not change the function name\n",
    "def transform_test(X_test_data):\n",
    "    X_test_data = msc.transform(X_test_data)\n",
    "    return X_test_data"
   ]
  },
  {
   "cell_type": "markdown",
   "metadata": {},
   "source": [
    "## Model Training\n",
    "\n",
    "* Training Code Below\n",
    "* You must explain your method in this markdown\n",
    "* (Important) Your model variable should be named 'model' !!! "
   ]
  },
  {
   "cell_type": "code",
   "execution_count": 8,
   "metadata": {
    "ExecuteTime": {
     "end_time": "2021-09-24T17:39:31.792494Z",
     "start_time": "2021-09-24T17:39:29.483035Z"
    }
   },
   "outputs": [],
   "source": [
    "# Sample code - kNN Classification\n",
    "model = KNeighborsClassifier(n_neighbors=3)\n",
    "\n",
    "model = model.fit(X_data, y_data)\n",
    "\n",
    "y_pred = model.predict(X_data)"
   ]
  },
  {
   "cell_type": "markdown",
   "metadata": {},
   "source": [
    "## Check Accuracy \n",
    "\n",
    "* Check your Train data accuracy"
   ]
  },
  {
   "cell_type": "code",
   "execution_count": 9,
   "metadata": {
    "ExecuteTime": {
     "end_time": "2021-09-24T17:39:31.808017Z",
     "start_time": "2021-09-24T17:39:31.796497Z"
    }
   },
   "outputs": [],
   "source": [
    "# Function to calculate the % of values that were correctly predicted\n",
    "\n",
    "def accuracy(real, predict):\n",
    "    return sum(real == predict) / float(real.shape[0])"
   ]
  },
  {
   "cell_type": "code",
   "execution_count": 10,
   "metadata": {
    "ExecuteTime": {
     "end_time": "2021-09-24T17:39:31.869542Z",
     "start_time": "2021-09-24T17:39:31.811540Z"
    }
   },
   "outputs": [
    {
     "name": "stdout",
     "output_type": "stream",
     "text": [
      "0.9230769230769231\n"
     ]
    }
   ],
   "source": [
    "print(accuracy(y_data, y_pred))"
   ]
  },
  {
   "cell_type": "markdown",
   "metadata": {},
   "source": [
    "## Analysis \n",
    "\n",
    "* Analyze your model's result\n",
    "* You may use additional metrics (F1 Score, Confusion matrix) or visualize your results using plots\n",
    "* Hint : PCA plot will help you understand the dataset (Which class is the most challenging class to classify?)\n",
    "* Hint : You may also compare different models to choose the best model among classifiers what we learned in this semester"
   ]
  },
  {
   "cell_type": "code",
   "execution_count": 11,
   "metadata": {},
   "outputs": [],
   "source": [
    "# Your code here"
   ]
  },
  {
   "cell_type": "markdown",
   "metadata": {},
   "source": [
    "# Test data\n",
    "\n",
    "* TA will check your model's test data accuracy\n",
    "* (Important) Do not change the code below"
   ]
  },
  {
   "cell_type": "code",
   "execution_count": 12,
   "metadata": {},
   "outputs": [],
   "source": [
    "filepath = os.sep.join( ['data', 'music_test_data.csv'])\n",
    "t_data = pd.read_csv(filepath)\n",
    "features = t_data.columns\n",
    "X_t_data = t_data[features]\n",
    "X_t_data = transform_test(X_t_data)\n",
    "\n",
    "y_pred = model.predict(X_t_data)\n",
    "np.savetxt('out.txt', y_pred, fmt='%d', delimiter='\\n')"
   ]
  }
 ],
 "metadata": {
  "anaconda-cloud": {},
  "kernelspec": {
   "display_name": "Python 3.10.8 64-bit",
   "language": "python",
   "name": "python3"
  },
  "language_info": {
   "codemirror_mode": {
    "name": "ipython",
    "version": 3
   },
   "file_extension": ".py",
   "mimetype": "text/x-python",
   "name": "python",
   "nbconvert_exporter": "python",
   "pygments_lexer": "ipython3",
   "version": "3.10.8"
  },
  "name": "Linear_Regression_and_K_Nearest_Neighbors_Exercises-ANSWERS",
  "notebookId": 2125319687183902,
  "vscode": {
   "interpreter": {
    "hash": "b0fa6594d8f4cbf19f97940f81e996739fb7646882a419484c72d19e05852a7e"
   }
  }
 },
 "nbformat": 4,
 "nbformat_minor": 1
}
